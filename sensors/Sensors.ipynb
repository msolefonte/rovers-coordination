{
 "cells": [
  {
   "cell_type": "code",
   "execution_count": 307,
   "metadata": {},
   "outputs": [],
   "source": [
    "import numpy as np\n",
    "import random\n",
    "import math\n",
    "\n",
    "class Sensors():\n",
    "    \n",
    "    def __init__(self, operation_area, max_speed):\n",
    "        self.operation_area = [\n",
    "            [int(operation_area.split(',')[0]), int(operation_area.split(',')[1])],\n",
    "            [int(operation_area.split(',')[2]), int(operation_area.split(',')[3])]\n",
    "        ]\n",
    "        \n",
    "        self.max_speed = max_speed\n",
    "         # Sensors\n",
    "        self.all_sensors = list()\n",
    "        self.messages = list()\n",
    "        \n",
    "        self.speedometer = list()\n",
    "        self.location = list()\n",
    "        self.temperature = list()\n",
    "        self.pressure = list()\n",
    "        self.wind_speed = list()\n",
    "        self.wind_direction = list()\n",
    "        \n",
    "        self.last_speedometer = {'x': 0, 'y': 0}\n",
    "        self.last_location = {'x': 0, 'y': 0}\n",
    "        \n",
    "        # BIAS SENSORs\n",
    "        \n",
    "        self.air_mean = np.random.normal(-55, 8, 1)[0]\n",
    "        self.air_std = np.random.randint(1, 8)\n",
    "        \n",
    "        # K_means\n",
    "        self.label = None\n",
    "        \n",
    "    def _move(self):\n",
    "        x_movement = random.randint(0, self.max_speed) * (1 if random.random() < 0.5 else -1)\n",
    "        y_movement = random.randint(0, self.max_speed) * (1 if random.random() < 0.5 else -1)\n",
    "\n",
    "        if self.last_location['x'] + x_movement < self.operation_area[0][0]:\n",
    "            x_movement = self.operation_area[0][0] - self.last_location['x']\n",
    "        if self.last_location['x'] + x_movement > self.operation_area[1][0]:\n",
    "            x_movement = self.operation_area[1][0] - self.last_location['x']\n",
    "        if self.last_location['y'] + y_movement < self.operation_area[0][1]:\n",
    "            y_movement = self.operation_area[0][1] - self.last_location['y']\n",
    "        if self.last_location['y'] + y_movement > self.operation_area[1][1]:\n",
    "            y_movement = self.operation_area[1][1] - self.last_location['y']\n",
    "\n",
    "        self.last_location = {'x': self.last_location['x'] + x_movement,\n",
    "                              'y': self.last_location['y'] + y_movement}\n",
    "        self.last_speedometer = {'x': x_movement, 'y': y_movement}\n",
    "        \n",
    "        self.location.append(self.last_location)\n",
    "        self.speedometer.append(self.last_speedometer)\n",
    "        \n",
    "        \n",
    "    def _get_temperature(self):\n",
    "        \n",
    "        # Min : -77 Celcius, Max : -13 Celcius, Mean : -55 Celcius\n",
    "        air_temperature_celcius = np.random.normal(self.air_mean, self.air_std, 1)[0]\n",
    "        \n",
    "        #pressure_pascals = np.random.normal(725, 48, 1)\n",
    "        #rems_sensors = np.concatenate((air_temperature_celcius, pressure_pascals))\n",
    "        self.temperature.append(air_temperature_celcius)\n",
    "        return air_temperature_celcius\n",
    "    \n",
    "    def _get_pressure(self):\n",
    "        \n",
    "        pressure_pascals = np.random.normal(725, 48, 1)[0]\n",
    "        #rems_sensors = np.concatenate((air_temperature_celcius, pressure_pascals))\n",
    "        self.pressure.append(pressure_pascals)\n",
    "        return pressure_pascals\n",
    "    \n",
    "    def _get_wind_speed(self):\n",
    "\n",
    "        last_wind_speed = np.random.normal(7, 2, 1)[0]\n",
    "        #rems_sensors = np.concatenate((air_temperature_celcius, pressure_pascals))\n",
    "        self.wind_direction.append(last_wind_speed)\n",
    "        return last_wind_speed\n",
    "        \n",
    "    def _get_wind_direction(self):\n",
    "        x_wind_movement = random.randint(-1, 1)\n",
    "        y_wind_movement = random.randint(-1, 1)\n",
    "        \n",
    "        last_wind_direction = math.atan2(y_wind_movement,x_wind_movement)/math.pi*180\n",
    "        self.pressure.append(last_wind_direction)\n",
    "        return last_wind_direction\n",
    "    \n",
    "    def update(self):\n",
    "        \n",
    "        self._move()\n",
    "        last_temperature = self._get_temperature()\n",
    "        last_pressure = self._get_pressure()\n",
    "        last_wind_speed = self._get_wind_speed()\n",
    "        last_wind_direction = self._get_wind_direction()\n",
    "        \n",
    "        self.all_sensors.append([self.last_location['x'], self.last_location['y'],\n",
    "                         last_temperature, last_pressure, last_wind_speed, last_wind_direction])\n",
    "        \n",
    "        self.messages.append({\"location(x)\" : self.last_location['x'],\n",
    "                         \"location(y)\" : self.last_location['y'],\n",
    "                         \"temperature:\" : last_temperature, \"pressure:\" : last_pressure, \n",
    "                         \"wind_speed:\" : last_wind_speed, \"wind_direction:\" : last_wind_direction})\n",
    "        \n",
    "    def k_means(self):\n",
    "        \n",
    "        from kneed import KneeLocator\n",
    "        from sklearn.cluster import KMeans\n",
    "        from sklearn.metrics import silhouette_score\n",
    "        \n",
    "        kmeans_kwargs = {\n",
    "            \"init\": \"random\",\n",
    "            \"n_init\": 10,\n",
    "            \"max_iter\": 300,\n",
    "            \"random_state\": 23,\n",
    "        }\n",
    "\n",
    "        # A list holds the SSE values for each k\n",
    "        sse = []\n",
    "        for k in range(1, 11):\n",
    "            kmeans = KMeans(n_clusters=k, **kmeans_kwargs)\n",
    "            kmeans.fit(np.array(self.all_sensors))\n",
    "            sse.append(kmeans.inertia_)\n",
    "            \n",
    "        kl = KneeLocator(\n",
    "            range(1, 11), sse, curve=\"convex\", direction=\"decreasing\"\n",
    "        )\n",
    "\n",
    "        kmeans = KMeans(\n",
    "            init = \"random\",\n",
    "            n_clusters = kl.elbow,\n",
    "            n_init = 10,\n",
    "            max_iter = 300,\n",
    "            random_state= 23\n",
    "        )\n",
    "        \n",
    "        kmeans.fit(np.array(self.all_sensors))\n",
    "        \n",
    "        self.label = kmeans.fit_predict(np.array(self.all_sensors))\n",
    "        return self.label"
   ]
  },
  {
   "cell_type": "code",
   "execution_count": 308,
   "metadata": {},
   "outputs": [],
   "source": [
    "sensor1 = Sensors(operation_area = \"0,0,1000,1000\", max_speed = 10)\n",
    "sensor2 = Sensors(operation_area = \"0,2000,1000,3000\", max_speed = 5)\n",
    "sensor3 = Sensors(operation_area = \"1000,1000,3000,1500\", max_speed = 10)\n",
    "sensor4 = Sensors(operation_area = \"500,2500,1500,3000\", max_speed = 5)\n",
    "for i in range(100):\n",
    "    sensor1.update()\n",
    "    sensor2.update()\n",
    "    sensor3.update()\n",
    "    sensor4.update()\n",
    "\n",
    "#print(np.array(sensor1.all_sensors)[:,2])"
   ]
  },
  {
   "cell_type": "code",
   "execution_count": 309,
   "metadata": {},
   "outputs": [],
   "source": [
    "labels_1 = sensor1.k_means()"
   ]
  },
  {
   "cell_type": "code",
   "execution_count": 310,
   "metadata": {},
   "outputs": [
    {
     "name": "stdout",
     "output_type": "stream",
     "text": [
      "[1 1 1 2 0 2 2 1 2 2 1 1 0 1 2 0 1 1 2 2 0 2 0 2 0 2 1 0 2 0 1 1 1 1 2 1 1\n",
      " 2 2 0 1 2 1 1 1 0 0 1 1 0 2 0 0 0 0 1 0 0 1 1 2 1 1 2 1 1 1 1 2 1 2 2 0 1\n",
      " 2 1 1 0 0 0 2 1 1 2 2 2 0 1 1 2 0 0 0 0 1 2 1 0 1 0]\n"
     ]
    }
   ],
   "source": [
    "print(labels_1)"
   ]
  },
  {
   "cell_type": "code",
   "execution_count": 312,
   "metadata": {},
   "outputs": [
    {
     "name": "stdout",
     "output_type": "stream",
     "text": [
      "{'location(x)': 68, 'location(y)': 0, 'temperature:': -53.28398281828797, 'pressure:': 754.7610554247792, 'wind_speed:': 6.5341005580439715, 'wind_direction:': 90.0}\n"
     ]
    }
   ],
   "source": [
    "print(sensor1.messages[-1])"
   ]
  },
  {
   "cell_type": "code",
   "execution_count": 260,
   "metadata": {},
   "outputs": [
    {
     "name": "stdout",
     "output_type": "stream",
     "text": [
      "[-71.33222326 -71.24584349 -64.94894498 -67.06181229 -62.0729845\n",
      " -66.34312817 -65.71456018 -64.36347699 -67.16099345 -61.90272744\n",
      " -66.26180514 -60.53621076 -62.40063135 -68.82783371 -58.96207596\n",
      " -67.38582617 -63.40897862 -67.92876636 -56.77981761 -71.92526746\n",
      " -57.47275524 -66.45224427 -67.47862702 -63.27894331 -64.3967673\n",
      " -60.31353526 -72.43034004 -73.20999134 -68.45373201 -68.02981676\n",
      " -65.70725228 -72.07960342 -61.69446152 -61.02981979 -58.36298396\n",
      " -71.2670424  -70.09232435 -71.79524635 -69.10738415 -57.36353912\n",
      " -65.50647824 -76.95398414 -77.43936032 -65.65828244 -57.50463735\n",
      " -68.2266512  -74.0699718  -69.64377997 -65.74778543 -67.63107569\n",
      " -73.68545262 -71.28267871 -64.01710717 -64.74450977 -67.89405971\n",
      " -69.10059729 -70.41792559 -71.95544768 -60.12675298 -62.89807592\n",
      " -70.3960742  -58.48717692 -68.37723155 -64.46353045 -61.18606808\n",
      " -78.49011842 -55.25757561 -75.15403828 -72.34239124 -69.60753115\n",
      " -67.71447724 -66.85075978 -72.64129302 -70.86361884 -69.79533315\n",
      " -70.06731677 -63.66260267 -63.80336541 -59.58986782 -60.34791261\n",
      " -70.95713348 -68.98370414 -69.10771327 -70.73666175 -70.12081528\n",
      " -67.3680076  -79.0773607  -62.69730116 -59.86324534 -70.53953303\n",
      " -67.88257621 -70.10702972 -69.27776258 -67.72440737 -72.79295633\n",
      " -66.38964516 -59.99875203 -62.7733983  -71.55731886 -75.85102515]\n"
     ]
    }
   ],
   "source": [
    "#print(np.array(sensor4.all_sensors)[:,2])"
   ]
  },
  {
   "cell_type": "code",
   "execution_count": 261,
   "metadata": {},
   "outputs": [],
   "source": [
    "# def get_labels_for_temperature(sensor):\n",
    "#     labels = list()\n",
    "#     for x in np.array(sensor1.all_sensors)[:,2]:\n",
    "#         if (x < -65):\n",
    "#             labels.append(-1)\n",
    "#         elif(x > -45):\n",
    "#             labels.append(1)\n",
    "#         else:\n",
    "#             labels.append(0)\n",
    "    \n",
    "#     return np.array(labels)"
   ]
  },
  {
   "cell_type": "code",
   "execution_count": 262,
   "metadata": {},
   "outputs": [],
   "source": [
    "# labels_temp_1 = get_labels_for_temperature(sensor1)\n",
    "# labels_temp_2 = get_labels_for_temperature(sensor2)\n",
    "# labels_temp_3 = get_labels_for_temperature(sensor3)\n",
    "# labels_temp_4 = get_labels_for_temperature(sensor4)"
   ]
  },
  {
   "cell_type": "code",
   "execution_count": 263,
   "metadata": {},
   "outputs": [],
   "source": [
    "# # Sensor Data Visualization\n",
    "# import matplotlib.pyplot as plt\n",
    "# import matplotlib as mpl\n",
    "\n",
    "# plt.rc('font', size=18)\n",
    "# fig, ((ax1, ax2), (ax3, ax4)) = plt.subplots(2, 2, figsize=(12,8))\n",
    "\n",
    "# sensor_lib = [sensor1, sensor2, sensor3, sensor4]\n",
    "# ax_lib = [ax1,ax2,ax3,ax4]\n",
    "# labels_lib = [labels_temp_1, labels_temp_2, labels_temp_3, labels_temp_4]\n",
    "# for i,ax in enumerate (ax_lib):\n",
    "    \n",
    "    \n",
    "#     indeces_1 = np.where(labels_lib[i] == 1)[0]\n",
    "#     indeces_minus_1 = np.where(labels_lib[i] == -1)[0]\n",
    "#     indeces_zero = np.where(labels_lib[i] == 0)[0]\n",
    "    \n",
    "#     ax.scatter(np.array(sensor_lib[i].all_sensors)[indeces_1, 0],\n",
    "#                np.array(sensor_lib[i].all_sensors)[indeces_1, 1], \n",
    "#                c = \"blue\", marker=\"o\" , label =\"COLD\")\n",
    "    \n",
    "#     ax.scatter(np.array(sensor_lib[i].all_sensors)[indeces_zero, 0],\n",
    "#                np.array(sensor_lib[i].all_sensors)[indeces_zero, 1], \n",
    "#                c = \"gray\", marker=\"o\" , label =\"NORMAL\")\n",
    "    \n",
    "#     ax.scatter(np.array(sensor_lib[i].all_sensors)[indeces_minus_1, 0],\n",
    "#                np.array(sensor_lib[i].all_sensors)[indeces_minus_1, 1],\n",
    "#                c = 'red' , marker=\"o\", label = \"HOT\")\n",
    "    \n",
    "#     #ax.scatter(sensor_lib[i].all_sensors[0], sensor_lib[i].all_sensors[1], labels_temp_1)\n",
    "#     ax.set_title('Sensor Data for Rover {a}' .format(a= i+1), pad=20)\n",
    "#     ax.set(xlabel = \"X Coordination\" , ylabel = 'Y Coordination')\n",
    "#     ax.xaxis.labelpad = 20\n",
    "#     ax.yaxis.labelpad = 20\n",
    "#     if (i % 2 == 1):\n",
    "#         ax.legend( bbox_to_anchor=(1, 0.5), title = \"Labels\")\n",
    "\n",
    "# plt.subplots_adjust(wspace=0.5, hspace=0.7, left=0, right=1, bottom=0, top=1.2)\n",
    "# plt.show()"
   ]
  },
  {
   "cell_type": "code",
   "execution_count": 264,
   "metadata": {},
   "outputs": [],
   "source": [
    "# from kneed import KneeLocator\n",
    "# from sklearn.cluster import KMeans\n",
    "# from sklearn.metrics import silhouette_score"
   ]
  },
  {
   "cell_type": "code",
   "execution_count": 265,
   "metadata": {},
   "outputs": [],
   "source": [
    "# kmeans_kwargs = {\n",
    "#     \"init\": \"random\",\n",
    "#     \"n_init\": 10,\n",
    "#     \"max_iter\": 300,\n",
    "#     \"random_state\": 23,\n",
    "# }\n",
    "\n",
    "# # A list holds the SSE values for each k\n",
    "# sse = []\n",
    "# for k in range(1, 11):\n",
    "#     kmeans = KMeans(n_clusters=k, **kmeans_kwargs)\n",
    "#     kmeans.fit(np.array(sensor2.all_sensors)[:,0:3])\n",
    "#     sse.append(kmeans.inertia_)"
   ]
  },
  {
   "cell_type": "code",
   "execution_count": 266,
   "metadata": {},
   "outputs": [
    {
     "data": {
      "image/png": "[encoded data removed]",
      "text/plain": [
       "<Figure size 432x288 with 1 Axes>"
      ]
     },
     "metadata": {},
     "output_type": "display_data"
    }
   ],
   "source": [
    "# plt.style.use(\"fivethirtyeight\")\n",
    "# plt.plot(range(1, 11), sse)\n",
    "# plt.xticks(range(1, 11))\n",
    "# plt.xlabel(\"Number of Clusters\")\n",
    "# plt.ylabel(\"SSE\")\n",
    "# plt.show()"
   ]
  },
  {
   "cell_type": "code",
   "execution_count": 267,
   "metadata": {},
   "outputs": [
    {
     "data": {
      "text/plain": [
       "4"
      ]
     },
     "execution_count": 267,
     "metadata": {},
     "output_type": "execute_result"
    }
   ],
   "source": [
    "# kl = KneeLocator(\n",
    "#     range(1, 11), sse, curve=\"convex\", direction=\"decreasing\"\n",
    "# )\n",
    "\n",
    "# kl.elbow"
   ]
  },
  {
   "cell_type": "code",
   "execution_count": 268,
   "metadata": {},
   "outputs": [],
   "source": [
    "# kmeans = KMeans(\n",
    "#     init = \"random\",\n",
    "#     n_clusters = kl.elbow,\n",
    "#     n_init = 10,\n",
    "#     max_iter = 300,\n",
    "#     random_state= 23\n",
    "# )"
   ]
  },
  {
   "cell_type": "code",
   "execution_count": 269,
   "metadata": {},
   "outputs": [
    {
     "data": {
      "text/plain": [
       "KMeans(init='random', n_clusters=4, random_state=23)"
      ]
     },
     "execution_count": 269,
     "metadata": {},
     "output_type": "execute_result"
    }
   ],
   "source": [
    "# kmeans.fit(np.array(sensor2.all_sensors)[:,0:-1])"
   ]
  },
  {
   "cell_type": "code",
   "execution_count": 270,
   "metadata": {},
   "outputs": [],
   "source": [
    "# kmeans_silhouette = silhouette_score(sensor2.all_sensors, kmeans.labels_)"
   ]
  },
  {
   "cell_type": "code",
   "execution_count": 271,
   "metadata": {},
   "outputs": [
    {
     "name": "stdout",
     "output_type": "stream",
     "text": [
      "-0.01538538394341475\n"
     ]
    }
   ],
   "source": [
    "# print(kmeans_silhouette)"
   ]
  },
  {
   "cell_type": "code",
   "execution_count": 274,
   "metadata": {},
   "outputs": [
    {
     "name": "stdout",
     "output_type": "stream",
     "text": [
      "[1 0 2 0 2 0 1 0 0 0 0 0 0 1 2 0 2 2 2 1 0 2 2 0 2 1 2 0 1 2 1 2 1 0 0 1 2\n",
      " 2 0 3 0 3 2 0 0 2 2 2 0 1 2 2 0 0 0 3 2 0 0 0 0 0 0 2 0 3 0 2 2 2 1 0 0 1\n",
      " 0 3 0 2 1 0 1 0 2 0 0 0 1 2 2 0 0 0 2 1 2 2 2 1 2 3]\n"
     ]
    },
    {
     "data": {
      "image/png": "[encoded data removed]",
      "text/plain": [
       "<Figure size 432x288 with 1 Axes>"
      ]
     },
     "metadata": {},
     "output_type": "display_data"
    }
   ],
   "source": [
    "# label = kmeans.fit_predict(sensor2.all_sensors)\n",
    "# print(label)\n",
    "# #filter rows of original data\n",
    "# filtered_label0 = np.array(sensor2.all_sensors)[label == 1]\n",
    " \n",
    "# #plotting the results\n",
    "# plt.scatter(filtered_label0[:,0] , filtered_label0[:,1])\n",
    "# plt.show()"
   ]
  },
  {
   "cell_type": "code",
   "execution_count": 273,
   "metadata": {},
   "outputs": [
    {
     "data": {
      "image/png": "[encoded data removed]",
      "text/plain": [
       "<Figure size 432x288 with 1 Axes>"
      ]
     },
     "metadata": {},
     "output_type": "display_data"
    }
   ],
   "source": [
    "# #Getting unique labels\n",
    " \n",
    "# u_labels = np.unique(label)\n",
    " \n",
    "# #plotting the results:\n",
    " \n",
    "# for i in u_labels:\n",
    "#     plt.scatter(np.array(sensor2.all_sensors)[label == i , 0] , np.array(sensor2.all_sensors)[label == i , 1] , label = i)\n",
    "# plt.legend(['Temperature Class 1', 'Temperature Class 2', 'Temperature Class 3', 'Temperature Class 4'])\n",
    "\n",
    "# plt.xlabel('X Coordinate')\n",
    "# plt.ylabel('Y Coordinate')\n",
    "# plt.show()\n"
   ]
  }
 ],
 "metadata": {
  "kernelspec": {
   "display_name": "Python 3",
   "language": "python",
   "name": "python3"
  },
  "language_info": {
   "codemirror_mode": {
    "name": "ipython",
    "version": 3
   },
   "file_extension": ".py",
   "mimetype": "text/x-python",
   "name": "python",
   "nbconvert_exporter": "python",
   "pygments_lexer": "ipython3",
   "version": "3.7.4"
  }
 },
 "nbformat": 4,
 "nbformat_minor": 2
}
